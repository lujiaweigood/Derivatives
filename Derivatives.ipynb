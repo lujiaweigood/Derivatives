{
 "cells": [
  {
   "cell_type": "markdown",
   "metadata": {},
   "source": [
    "### 盧嘉威"
   ]
  },
  {
   "cell_type": "markdown",
   "metadata": {},
   "source": [
    "## 課題 1-1:ヨーロピアン・コールオプション価格の計算\n",
    "## あなたの VIG ポートフォリオに含まれる銘柄の中で，中間プロジェクトで選択した 3 銘柄につ いてについて，それぞれの銘柄を原資産とするヨーロピアン・コールオプションの価格を BS の 公式を利用して導出してください.\n",
    "## (オプション課題として，3 銘柄以外の VIG で選んだ残りの銘柄について，同じ課題をこなして も良い)"
   ]
  },
  {
   "cell_type": "markdown",
   "metadata": {},
   "source": [
    "### 8月15日-5月15日は92日になる。"
   ]
  },
  {
   "cell_type": "code",
   "execution_count": 4,
   "metadata": {},
   "outputs": [],
   "source": [
    "import pandas as pd\n",
    "import numpy as np\n",
    "sony19=pd.read_csv(\"6758_2019.csv\",encoding=\"SHIFT-JIS\",header=1)\n",
    "sony20=pd.read_csv(\"6758_2020.csv\",encoding=\"SHIFT-JIS\",header=1)\n",
    "\n",
    "\n",
    "softbank1=pd.read_csv(\"9984_2019.csv\",encoding=\"SHIFT-JIS\",header=1)\n",
    "softbank2=pd.read_csv(\"9984_2020.csv\",encoding=\"SHIFT-JIS\",header=1)\n",
    "\n",
    "\n",
    "KEYENCE2=pd.read_csv(\"6861_2020.csv\",encoding=\"SHIFT-JIS\",header=1)\n",
    "KEYENCE1=pd.read_csv(\"6861_2019.csv\",encoding=\"SHIFT-JIS\",header=1)"
   ]
  },
  {
   "cell_type": "code",
   "execution_count": 5,
   "metadata": {},
   "outputs": [],
   "source": [
    "sony=pd.concat([sony19,sony20])\n",
    "softbank=pd.concat([softbank1,softbank2])\n",
    "KEYENCE=pd.concat([KEYENCE1,KEYENCE2])\n",
    "sony.index=sony[\"日付\"]\n",
    "softbank.index=softbank[\"日付\"]\n",
    "KEYENCE.index=KEYENCE[\"日付\"]"
   ]
  },
  {
   "cell_type": "code",
   "execution_count": 6,
   "metadata": {},
   "outputs": [],
   "source": [
    "sony_1year=sony[78:328]\n",
    "softbank_1year=softbank[78:328]\n",
    "KEYENCE_1year=KEYENCE[78:328]"
   ]
  },
  {
   "cell_type": "code",
   "execution_count": 7,
   "metadata": {},
   "outputs": [
    {
     "name": "stdout",
     "output_type": "stream",
     "text": [
      "KEYENCE 日付\n",
      "2020-05-15    38870\n",
      "Name: 終値調整値, dtype: int64\n",
      "softbank 日付\n",
      "2020-05-15    4574.0\n",
      "Name: 終値調整値, dtype: float64\n",
      "sony 日付\n",
      "2020-05-15    6865\n",
      "Name: 終値調整値, dtype: int64\n"
     ]
    }
   ],
   "source": [
    "S0_sony=sony[327:328][\"終値調整値\"][0]\n",
    "S0_softbank=softbank[327:328][\"終値調整値\"][0]\n",
    "S0_KEYENCE=KEYENCE[327:328][\"終値調整値\"][0]\n",
    "print(\"KEYENCE\",KEYENCE[327:328][\"終値調整値\"])\n",
    "print(\"softbank\",softbank[327:328][\"終値調整値\"])\n",
    "print(\"sony\",sony[327:328][\"終値調整値\"])"
   ]
  },
  {
   "cell_type": "code",
   "execution_count": 8,
   "metadata": {},
   "outputs": [],
   "source": [
    "#A,B,C\n",
    "sigmaA=np.sqrt(np.var(((sony_1year[\"終値調整値\"]/sony_1year[\"終値調整値\"].shift(1))[1:]-1)))*np.sqrt(250)\n",
    "sigmaB=np.sqrt(np.var(((softbank_1year[\"終値調整値\"]/softbank_1year[\"終値調整値\"].shift(1))[1:]-1)))*np.sqrt(250)\n",
    "sigmaC=np.sqrt(np.var(((KEYENCE_1year[\"終値調整値\"]/KEYENCE_1year[\"終値調整値\"].shift(1))[1:]-1)))*np.sqrt(250)"
   ]
  },
  {
   "cell_type": "code",
   "execution_count": 9,
   "metadata": {},
   "outputs": [],
   "source": [
    "S0=np.array([S0_sony,S0_softbank,S0_KEYENCE])\n",
    "\n",
    "K=np.array([6000,4000,35000])\n",
    "\n",
    "T=92/365\n",
    "r=0\n",
    "siguma=np.array([sigmaA,sigmaB,sigmaC])\n",
    "\n",
    "\n",
    "\n",
    "import numpy as np\n",
    "d1=(np.log(S0/K)+(r+(siguma**2)/2)*T)/(siguma*np.sqrt(T))\n",
    "d2=d1-siguma*np.sqrt(T)"
   ]
  },
  {
   "cell_type": "code",
   "execution_count": 10,
   "metadata": {},
   "outputs": [
    {
     "data": {
      "text/plain": [
       "array([0.94803014, 0.62647006, 0.50509774])"
      ]
     },
     "execution_count": 10,
     "metadata": {},
     "output_type": "execute_result"
    }
   ],
   "source": [
    "d1"
   ]
  },
  {
   "cell_type": "code",
   "execution_count": 11,
   "metadata": {},
   "outputs": [
    {
     "data": {
      "text/plain": [
       "array([0.79335238, 0.35252981, 0.21301258])"
      ]
     },
     "execution_count": 11,
     "metadata": {},
     "output_type": "execute_result"
    }
   ],
   "source": [
    "d2"
   ]
  },
  {
   "cell_type": "code",
   "execution_count": 12,
   "metadata": {},
   "outputs": [
    {
     "data": {
      "text/plain": [
       "array([0.82844294, 0.73449666, 0.69325491])"
      ]
     },
     "execution_count": 12,
     "metadata": {},
     "output_type": "execute_result"
    }
   ],
   "source": [
    "import scipy.stats as si\n",
    "si.norm.cdf(d1)"
   ]
  },
  {
   "cell_type": "code",
   "execution_count": 13,
   "metadata": {},
   "outputs": [
    {
     "data": {
      "text/plain": [
       "array([0.78621373, 0.63777952, 0.58434143])"
      ]
     },
     "execution_count": 13,
     "metadata": {},
     "output_type": "execute_result"
    }
   ],
   "source": [
    "import scipy.stats as si\n",
    "si.norm.cdf(d2)"
   ]
  },
  {
   "cell_type": "code",
   "execution_count": 14,
   "metadata": {},
   "outputs": [],
   "source": [
    "call=S0*si.norm.cdf(d1)-K*np.exp(-r*T)*si.norm.cdf(d2)"
   ]
  },
  {
   "cell_type": "markdown",
   "metadata": {},
   "source": [
    "## 表 1-1"
   ]
  },
  {
   "cell_type": "code",
   "execution_count": 15,
   "metadata": {},
   "outputs": [
    {
     "data": {
      "text/html": [
       "<div>\n",
       "<style scoped>\n",
       "    .dataframe tbody tr th:only-of-type {\n",
       "        vertical-align: middle;\n",
       "    }\n",
       "\n",
       "    .dataframe tbody tr th {\n",
       "        vertical-align: top;\n",
       "    }\n",
       "\n",
       "    .dataframe thead th {\n",
       "        text-align: right;\n",
       "    }\n",
       "</style>\n",
       "<table border=\"1\" class=\"dataframe\">\n",
       "  <thead>\n",
       "    <tr style=\"text-align: right;\">\n",
       "      <th></th>\n",
       "      <th>sony</th>\n",
       "      <th>softbank</th>\n",
       "      <th>KEYENCE</th>\n",
       "    </tr>\n",
       "  </thead>\n",
       "  <tbody>\n",
       "    <tr>\n",
       "      <td>原資産価格</td>\n",
       "      <td>6865.000000</td>\n",
       "      <td>4574.000000</td>\n",
       "      <td>38870.000000</td>\n",
       "    </tr>\n",
       "    <tr>\n",
       "      <td>行使価格</td>\n",
       "      <td>6000.000000</td>\n",
       "      <td>4000.000000</td>\n",
       "      <td>35000.000000</td>\n",
       "    </tr>\n",
       "    <tr>\n",
       "      <td>コール・オプション価格</td>\n",
       "      <td>969.978449</td>\n",
       "      <td>808.469683</td>\n",
       "      <td>6494.868286</td>\n",
       "    </tr>\n",
       "  </tbody>\n",
       "</table>\n",
       "</div>"
      ],
      "text/plain": [
       "                    sony     softbank       KEYENCE\n",
       "原資産価格        6865.000000  4574.000000  38870.000000\n",
       "行使価格         6000.000000  4000.000000  35000.000000\n",
       "コール・オプション価格   969.978449   808.469683   6494.868286"
      ]
     },
     "execution_count": 15,
     "metadata": {},
     "output_type": "execute_result"
    }
   ],
   "source": [
    "import pandas as pd\n",
    "\n",
    "pd.DataFrame([S0,K,call],columns=[\"sony\",\"softbank\",\"KEYENCE\"],index=[\"原資産価格\",\"行使価格\",\"コール・オプション価格\"])"
   ]
  },
  {
   "cell_type": "markdown",
   "metadata": {},
   "source": [
    "## 課題 1-2:プット・コール・パリティの利用\n",
    "## BS の公式と，プット・コール・パリティの式を使って，ヨーロピアン・プットオプションの適正価 格を求める公式を導出してください.導出の過程も示すこと."
   ]
  },
  {
   "cell_type": "markdown",
   "metadata": {},
   "source": [
    "### C(t)-P(t)  = S(t)-K*B(t,T)\n",
    "### B(t,T) = e**(-rt)\n",
    "### C(t)=S0N(d1)-N(d2)Ke*(-rt)\n",
    "### よって S0N(d1)-N(d2)Ke*(-rt)-P(t)  = S(t)-K*B(t,T)\n",
    "### よって P(t)=S0N(d1)-N(d2)Ke*(-rt)-S(t)+K*e**(-rt)\n",
    "### よって P(t)=S0N(d1)-N(d2)Ke(-rt)-S(t)+Ke**(-rt) \n",
    "### よって P(t)=S0N(d1)+(1-N(d2))Ke(-rt)-S0\n",
    "### よって P(t)=S0(N(d1)-1)+(1-N(d2))Ke(-rt)\n",
    "### 正規分布の性質より\n",
    "### P(t)=N(-d2)*K*e**(-rt)-S0*N(-d1)"
   ]
  },
  {
   "cell_type": "markdown",
   "metadata": {},
   "source": [
    "## 課題 1-3:ヨーロピアン・プットオプション価格の計算\n",
    "## 課題 1-2 の結果を用いて，あなたの VIG ポートフォリオに含まれるそれぞれの銘柄を原資産と するヨーロピアン・プットオプションの価格(条件は，課題1-1と同じとする)を計算し，それをまとめた表 1-3 を作成してください."
   ]
  },
  {
   "cell_type": "code",
   "execution_count": 16,
   "metadata": {},
   "outputs": [],
   "source": [
    "S0=np.array([S0_sony,S0_softbank,S0_KEYENCE])\n",
    "\n",
    "K=np.array([6000,4000,35000])\n",
    "\n",
    "T=92/365\n",
    "r=0\n",
    "siguma=np.array([sigmaA,sigmaB,sigmaC])\n",
    "\n",
    "\n",
    "\n",
    "import numpy as np\n",
    "d1=(np.log(S0/K)+(r+(siguma**2)/2)*T)/(siguma*np.sqrt(T))\n",
    "d2=d1-siguma*np.sqrt(T)"
   ]
  },
  {
   "cell_type": "code",
   "execution_count": 17,
   "metadata": {},
   "outputs": [
    {
     "data": {
      "text/plain": [
       "array([0.94803014, 0.62647006, 0.50509774])"
      ]
     },
     "execution_count": 17,
     "metadata": {},
     "output_type": "execute_result"
    }
   ],
   "source": [
    "d1"
   ]
  },
  {
   "cell_type": "code",
   "execution_count": 18,
   "metadata": {},
   "outputs": [
    {
     "data": {
      "text/plain": [
       "array([0.79335238, 0.35252981, 0.21301258])"
      ]
     },
     "execution_count": 18,
     "metadata": {},
     "output_type": "execute_result"
    }
   ],
   "source": [
    "d2"
   ]
  },
  {
   "cell_type": "code",
   "execution_count": 19,
   "metadata": {},
   "outputs": [
    {
     "data": {
      "text/plain": [
       "array([0.17155706, 0.26550334, 0.30674509])"
      ]
     },
     "execution_count": 19,
     "metadata": {},
     "output_type": "execute_result"
    }
   ],
   "source": [
    "import scipy.stats as si\n",
    "si.norm.cdf(-d1)"
   ]
  },
  {
   "cell_type": "code",
   "execution_count": 20,
   "metadata": {},
   "outputs": [
    {
     "data": {
      "text/plain": [
       "array([0.21378627, 0.36222048, 0.41565857])"
      ]
     },
     "execution_count": 20,
     "metadata": {},
     "output_type": "execute_result"
    }
   ],
   "source": [
    "import scipy.stats as si\n",
    "si.norm.cdf(-d2)"
   ]
  },
  {
   "cell_type": "code",
   "execution_count": 21,
   "metadata": {},
   "outputs": [],
   "source": [
    "put=K*np.exp(-r*T)*si.norm.cdf(-d2)-S0*si.norm.cdf(-d1)"
   ]
  },
  {
   "cell_type": "markdown",
   "metadata": {},
   "source": [
    "## 表 1-3"
   ]
  },
  {
   "cell_type": "code",
   "execution_count": 22,
   "metadata": {},
   "outputs": [
    {
     "data": {
      "text/html": [
       "<div>\n",
       "<style scoped>\n",
       "    .dataframe tbody tr th:only-of-type {\n",
       "        vertical-align: middle;\n",
       "    }\n",
       "\n",
       "    .dataframe tbody tr th {\n",
       "        vertical-align: top;\n",
       "    }\n",
       "\n",
       "    .dataframe thead th {\n",
       "        text-align: right;\n",
       "    }\n",
       "</style>\n",
       "<table border=\"1\" class=\"dataframe\">\n",
       "  <thead>\n",
       "    <tr style=\"text-align: right;\">\n",
       "      <th></th>\n",
       "      <th>sony</th>\n",
       "      <th>softbank</th>\n",
       "      <th>KEYENCE</th>\n",
       "    </tr>\n",
       "  </thead>\n",
       "  <tbody>\n",
       "    <tr>\n",
       "      <td>原資産価格</td>\n",
       "      <td>6865.000000</td>\n",
       "      <td>4574.000000</td>\n",
       "      <td>38870.000000</td>\n",
       "    </tr>\n",
       "    <tr>\n",
       "      <td>行使価格</td>\n",
       "      <td>6000.000000</td>\n",
       "      <td>4000.000000</td>\n",
       "      <td>35000.000000</td>\n",
       "    </tr>\n",
       "    <tr>\n",
       "      <td>コール・オプション価格</td>\n",
       "      <td>969.978449</td>\n",
       "      <td>808.469683</td>\n",
       "      <td>6494.868286</td>\n",
       "    </tr>\n",
       "    <tr>\n",
       "      <td>プット・オプション価格</td>\n",
       "      <td>104.978449</td>\n",
       "      <td>234.469683</td>\n",
       "      <td>2624.868286</td>\n",
       "    </tr>\n",
       "  </tbody>\n",
       "</table>\n",
       "</div>"
      ],
      "text/plain": [
       "                    sony     softbank       KEYENCE\n",
       "原資産価格        6865.000000  4574.000000  38870.000000\n",
       "行使価格         6000.000000  4000.000000  35000.000000\n",
       "コール・オプション価格   969.978449   808.469683   6494.868286\n",
       "プット・オプション価格   104.978449   234.469683   2624.868286"
      ]
     },
     "execution_count": 22,
     "metadata": {},
     "output_type": "execute_result"
    }
   ],
   "source": [
    "import pandas as pd\n",
    "\n",
    "pd.DataFrame([S0,K,call,put],columns=[\"sony\",\"softbank\",\"KEYENCE\"],index=[\"原資産価格\",\"行使価格\",\"コール・オプション価格\",\"プット・オプション価格\"])"
   ]
  },
  {
   "cell_type": "markdown",
   "metadata": {},
   "source": [
    "### 表1-1と比較して，プットオプションよりは、コールオプションの価格が大きいことを確認した。これは、行使価格が原資産価格より低いからだと考えられる。"
   ]
  },
  {
   "cell_type": "markdown",
   "metadata": {},
   "source": [
    "## 課題 2:オプション戦略の分析"
   ]
  },
  {
   "cell_type": "markdown",
   "metadata": {},
   "source": [
    "## 課題 2-1:オプション戦略 S を 5/15 に実現するために，支払わなければならない費用(金額)は いくらか，計算して答えなさい."
   ]
  },
  {
   "cell_type": "code",
   "execution_count": 23,
   "metadata": {},
   "outputs": [],
   "source": [
    "import numpy as np\n",
    "S0=np.array([S0_sony])\n",
    "\n",
    "K=np.array([6865])\n",
    "\n",
    "T=92/365\n",
    "r=0\n",
    "siguma=np.array([sigmaA])\n",
    "\n",
    "\n",
    "\n",
    "\n",
    "d1=(np.log(S0/K)+(r+(siguma**2)/2)*T)/(siguma*np.sqrt(T))\n",
    "d2=d1-siguma*np.sqrt(T)\n",
    "\n",
    "S0=np.array([S0_sony])\n",
    "\n",
    "\n",
    "siguma=np.array([sigmaA])\n",
    "\n",
    "\n",
    "call=S0*si.norm.cdf(d1)-K*np.exp(-r*T)*si.norm.cdf(d2)\n",
    "put=K*np.exp(-r*T)*si.norm.cdf(-d2)-S0*si.norm.cdf(-d1)"
   ]
  },
  {
   "cell_type": "code",
   "execution_count": 27,
   "metadata": {},
   "outputs": [
    {
     "data": {
      "text/html": [
       "<div>\n",
       "<style scoped>\n",
       "    .dataframe tbody tr th:only-of-type {\n",
       "        vertical-align: middle;\n",
       "    }\n",
       "\n",
       "    .dataframe tbody tr th {\n",
       "        vertical-align: top;\n",
       "    }\n",
       "\n",
       "    .dataframe thead th {\n",
       "        text-align: right;\n",
       "    }\n",
       "</style>\n",
       "<table border=\"1\" class=\"dataframe\">\n",
       "  <thead>\n",
       "    <tr style=\"text-align: right;\">\n",
       "      <th></th>\n",
       "      <th>sony</th>\n",
       "    </tr>\n",
       "  </thead>\n",
       "  <tbody>\n",
       "    <tr>\n",
       "      <td>原資産価格</td>\n",
       "      <td>6865.000000</td>\n",
       "    </tr>\n",
       "    <tr>\n",
       "      <td>行使価格</td>\n",
       "      <td>6865.000000</td>\n",
       "    </tr>\n",
       "    <tr>\n",
       "      <td>コール・オプション価格</td>\n",
       "      <td>423.200041</td>\n",
       "    </tr>\n",
       "    <tr>\n",
       "      <td>プット・オプション価格</td>\n",
       "      <td>423.200041</td>\n",
       "    </tr>\n",
       "  </tbody>\n",
       "</table>\n",
       "</div>"
      ],
      "text/plain": [
       "                    sony\n",
       "原資産価格        6865.000000\n",
       "行使価格         6865.000000\n",
       "コール・オプション価格   423.200041\n",
       "プット・オプション価格   423.200041"
      ]
     },
     "execution_count": 27,
     "metadata": {},
     "output_type": "execute_result"
    }
   ],
   "source": [
    "import pandas as pd\n",
    "\n",
    "pd.DataFrame([S0,K,call,put],columns=[\"sony\"],index=[\"原資産価格\",\"行使価格\",\"コール・オプション価格\",\"プット・オプション価格\"])"
   ]
  },
  {
   "cell_type": "markdown",
   "metadata": {},
   "source": [
    "###  Z=SONY\n",
    "### 100株購入したとし、行使価格を6865.000000とすると、\n",
    "### オプション戦略 S を 5/15 に実現するために、支払わなければならない費用(金額)は、100*(6865.000000+423.200041+423.200041)=771140.0082"
   ]
  },
  {
   "cell_type": "markdown",
   "metadata": {},
   "source": [
    "## 課題 2-2 :以下のような 3 つのグラフ重ね合わせて一つのグラフ(図 2-2)として描写してくださ い."
   ]
  },
  {
   "cell_type": "markdown",
   "metadata": {},
   "source": [
    "### オプション戦略Sを構成する，コールオプション1単位のロングポジションの損益図"
   ]
  },
  {
   "cell_type": "code",
   "execution_count": 32,
   "metadata": {},
   "outputs": [
    {
     "data": {
      "text/plain": [
       "[<matplotlib.lines.Line2D at 0x7fa91c11c4d0>]"
      ]
     },
     "execution_count": 32,
     "metadata": {},
     "output_type": "execute_result"
    },
    {
     "data": {
      "image/png": "[encoded data removed]",
      "text/plain": [
       "<Figure size 432x288 with 1 Axes>"
      ]
     },
     "metadata": {
      "needs_background": "light"
     },
     "output_type": "display_data"
    }
   ],
   "source": [
    "%matplotlib inline\n",
    "import matplotlib.pyplot as plt\n",
    "S0=np.arange(2000,10000,0.5)\n",
    "\n",
    "K=np.array([6865])\n",
    "\n",
    "T=92/365\n",
    "r=0\n",
    "siguma=np.array([sigmaA])\n",
    "\n",
    "\n",
    "\n",
    "import numpy as np\n",
    "d1=(np.log(S0/K)+(r+(siguma**2)/2)*T)/(siguma*np.sqrt(T))\n",
    "d2=d1-siguma*np.sqrt(T)\n",
    "\n",
    "call_sony=S0*si.norm.cdf(d1)-K*np.exp(-r*T)*si.norm.cdf(d2)\n",
    "\n",
    "plt.plot(S0,call_sony)"
   ]
  },
  {
   "cell_type": "markdown",
   "metadata": {},
   "source": [
    "### オプション戦略Sを構成する，プットオプション1単位のロングポジションの損益図"
   ]
  },
  {
   "cell_type": "code",
   "execution_count": 34,
   "metadata": {},
   "outputs": [
    {
     "data": {
      "text/plain": [
       "[<matplotlib.lines.Line2D at 0x7fa91c4bda50>]"
      ]
     },
     "execution_count": 34,
     "metadata": {},
     "output_type": "execute_result"
    },
    {
     "data": {
      "image/png": "[encoded data removed]",
      "text/plain": [
       "<Figure size 432x288 with 1 Axes>"
      ]
     },
     "metadata": {
      "needs_background": "light"
     },
     "output_type": "display_data"
    }
   ],
   "source": [
    "import matplotlib.pyplot as plt\n",
    "S0=np.arange(2000,10000,0.5)\n",
    "\n",
    "K=np.array([6865])\n",
    "\n",
    "T=92/365\n",
    "r=0\n",
    "siguma=np.array([sigmaA])\n",
    "\n",
    "\n",
    "\n",
    "import numpy as np\n",
    "d1=(np.log(S0/K)+(r+(siguma**2)/2)*T)/(siguma*np.sqrt(T))\n",
    "d2=d1-siguma*np.sqrt(T)\n",
    "\n",
    "put_sony=K*np.exp(-r*T)*si.norm.cdf(-d2)-S0*si.norm.cdf(-d1)\n",
    "\n",
    "plt.plot(S0,put_sony)"
   ]
  },
  {
   "cell_type": "markdown",
   "metadata": {},
   "source": [
    "### オプション戦略Sの損益図"
   ]
  },
  {
   "cell_type": "code",
   "execution_count": 43,
   "metadata": {},
   "outputs": [
    {
     "data": {
      "text/plain": [
       "[<matplotlib.lines.Line2D at 0x7fa91daf9910>]"
      ]
     },
     "execution_count": 43,
     "metadata": {},
     "output_type": "execute_result"
    },
    {
     "data": {
      "image/png": "[encoded data removed]",
      "text/plain": [
       "<Figure size 432x288 with 1 Axes>"
      ]
     },
     "metadata": {
      "needs_background": "light"
     },
     "output_type": "display_data"
    }
   ],
   "source": [
    "import matplotlib.pyplot as plt\n",
    "S0=np.arange(2000,11800,0.5)\n",
    "\n",
    "K=np.array([6865])\n",
    "\n",
    "T=92/365\n",
    "r=0\n",
    "siguma=np.array([sigmaA])\n",
    "\n",
    "\n",
    "\n",
    "import numpy as np\n",
    "d1=(np.log(S0/K)+(r+(siguma**2)/2)*T)/(siguma*np.sqrt(T))\n",
    "d2=d1-siguma*np.sqrt(T)\n",
    "\n",
    "call_sony=S0*si.norm.cdf(d1)-K*np.exp(-r*T)*si.norm.cdf(d2)\n",
    "\n",
    "T=92/365\n",
    "r=0\n",
    "siguma=np.array([sigmaA])\n",
    "\n",
    "\n",
    "\n",
    "import numpy as np\n",
    "d1=(np.log(S0/K)+(r+(siguma**2)/2)*T)/(siguma*np.sqrt(T))\n",
    "d2=d1-siguma*np.sqrt(T)\n",
    "\n",
    "put_sony=K*np.exp(-r*T)*si.norm.cdf(-d2)-S0*si.norm.cdf(-d1)\n",
    "\n",
    "plt.plot(S0,put_sony+call_sony)\n",
    "\n"
   ]
  },
  {
   "cell_type": "code",
   "execution_count": null,
   "metadata": {},
   "outputs": [],
   "source": []
  },
  {
   "cell_type": "markdown",
   "metadata": {},
   "source": [
    "## 課題 2-3:考察\n",
    "## 課題 2-1 のオプション戦略 S のグラフを見て，このような戦略を構築するのはどのような場合に 有効か，言い換えると，どのような状況のときにオプション戦略 S を構築すると利益が期待さ れるか，自ら考えて答えてください."
   ]
  },
  {
   "cell_type": "markdown",
   "metadata": {},
   "source": [
    "### このような戦略を構築するのは、この株のボラティリティが高く、先行きが大きく上下し、この先原資産価格が満期日に購入日の原資産価格（6865円）と大きくかけ離れていると判断する時に、オプション戦略 S を構築すると利益が期待されると思う。"
   ]
  },
  {
   "cell_type": "markdown",
   "metadata": {},
   "source": [
    "## オプション課題 3:感度分析"
   ]
  },
  {
   "cell_type": "markdown",
   "metadata": {},
   "source": [
    "## 課題 3-1:横軸に原資産 Z のボラティリティ，縦軸に BS の公式を用いて計算されるヨーロ ピアン・コールオプションの価格と，ヨーロピアン・プットオプションの価格を取ったそれ ぞれのグラフ(図 3-1)を描いてください.さらに，グラフを見てそれぞれの価格がどのよう な理由でそのような形状になるのか，考察して書いてください.\n"
   ]
  },
  {
   "cell_type": "code",
   "execution_count": 96,
   "metadata": {},
   "outputs": [
    {
     "name": "stderr",
     "output_type": "stream",
     "text": [
      "/usr/local/anaconda3/lib/python3.7/site-packages/ipykernel_launcher.py:12: RuntimeWarning: divide by zero encountered in true_divide\n",
      "  if sys.path[0] == '':\n",
      "/usr/local/anaconda3/lib/python3.7/site-packages/ipykernel_launcher.py:12: RuntimeWarning: invalid value encountered in true_divide\n",
      "  if sys.path[0] == '':\n"
     ]
    },
    {
     "data": {
      "text/plain": [
       "[<matplotlib.lines.Line2D at 0x7fa8f4cc9e90>]"
      ]
     },
     "execution_count": 96,
     "metadata": {},
     "output_type": "execute_result"
    },
    {
     "data": {
      "image/png": "[encoded data removed]",
      "text/plain": [
       "<Figure size 432x288 with 1 Axes>"
      ]
     },
     "metadata": {
      "needs_background": "light"
     },
     "output_type": "display_data"
    }
   ],
   "source": [
    "import matplotlib.pyplot as plt\n",
    "S0=S0_sony\n",
    "\n",
    "K=np.array([6865])\n",
    "\n",
    "T=92/365\n",
    "r=0\n",
    "\n",
    "siguma=np.arange(0,20,0.0001)\n",
    "\n",
    "import numpy as np\n",
    "d1=(np.log(S0/K)+(r+(siguma**2)/2)*T)/(siguma*np.sqrt(T))\n",
    "d2=d1-siguma*np.sqrt(T)\n",
    "\n",
    "call_sony=S0*si.norm.cdf(d1)-K*np.exp(-r*T)*si.norm.cdf(d2)\n",
    "\n",
    "plt.plot(siguma,call_sony)"
   ]
  },
  {
   "cell_type": "code",
   "execution_count": 97,
   "metadata": {},
   "outputs": [
    {
     "name": "stderr",
     "output_type": "stream",
     "text": [
      "/usr/local/anaconda3/lib/python3.7/site-packages/ipykernel_launcher.py:13: RuntimeWarning: divide by zero encountered in true_divide\n",
      "  del sys.path[0]\n",
      "/usr/local/anaconda3/lib/python3.7/site-packages/ipykernel_launcher.py:13: RuntimeWarning: invalid value encountered in true_divide\n",
      "  del sys.path[0]\n"
     ]
    },
    {
     "data": {
      "text/plain": [
       "[<matplotlib.lines.Line2D at 0x7fa8f79d9210>]"
      ]
     },
     "execution_count": 97,
     "metadata": {},
     "output_type": "execute_result"
    },
    {
     "data": {
      "image/png": "[encoded data removed]",
      "text/plain": [
       "<Figure size 432x288 with 1 Axes>"
      ]
     },
     "metadata": {
      "needs_background": "light"
     },
     "output_type": "display_data"
    }
   ],
   "source": [
    "import matplotlib.pyplot as plt\n",
    "S0=S0_sony\n",
    "\n",
    "siguma=np.arange(0,20,0.0001)\n",
    "K=np.array([6865])\n",
    "\n",
    "T=92/365\n",
    "r=0\n",
    "\n",
    "\n",
    "\n",
    "import numpy as np\n",
    "d1=(np.log(S0/K)+(r+(siguma**2)/2)*T)/(siguma*np.sqrt(T))\n",
    "d2=d1-siguma*np.sqrt(T)\n",
    "\n",
    "put_sony=K*np.exp(-r*T)*si.norm.cdf(-d2)-S0*si.norm.cdf(-d1)\n",
    "\n",
    "plt.plot(siguma,put_sony)"
   ]
  },
  {
   "cell_type": "code",
   "execution_count": 98,
   "metadata": {},
   "outputs": [
    {
     "data": {
      "text/plain": [
       "6864.996461620771"
      ]
     },
     "execution_count": 98,
     "metadata": {},
     "output_type": "execute_result"
    }
   ],
   "source": [
    "call_sony[-1]"
   ]
  },
  {
   "cell_type": "code",
   "execution_count": 99,
   "metadata": {},
   "outputs": [
    {
     "data": {
      "text/plain": [
       "6864.996461620771"
      ]
     },
     "execution_count": 99,
     "metadata": {},
     "output_type": "execute_result"
    }
   ],
   "source": [
    "put_sony[-1]"
   ]
  },
  {
   "cell_type": "code",
   "execution_count": 103,
   "metadata": {},
   "outputs": [
    {
     "data": {
      "text/plain": [
       "array([nan,  0.,  0., ...,  0.,  0.,  0.])"
      ]
     },
     "execution_count": 103,
     "metadata": {},
     "output_type": "execute_result"
    }
   ],
   "source": [
    "call_sony-put_sony"
   ]
  },
  {
   "cell_type": "markdown",
   "metadata": {},
   "source": [
    "### グラフを見てそれぞれの価格がどのような理由は、行使価格がゼロ時点の原資産の価格と同じの時、ボラティリティが高いほど、将来価格の変化不安定になりやすくなるため、オプション価格が上昇すると考えられる。しかし、ボラティリティが上昇すると、原資産の価格、つまり、6864.996461620771に収束することがわかった。つまり、ボラティリティがが大きくなっても、オプション価格が、原資産の価格を超えることはない。なぜなら、オプション価格が、原資産の価格を超えるならば、わざわざオプションで株を買う意味がなくなるからだ。また、プットオプションとコールオプションの収束が重なり合うことがわかった。"
   ]
  },
  {
   "cell_type": "code",
   "execution_count": 92,
   "metadata": {},
   "outputs": [
    {
     "name": "stderr",
     "output_type": "stream",
     "text": [
      "/usr/local/anaconda3/lib/python3.7/site-packages/ipykernel_launcher.py:12: RuntimeWarning: divide by zero encountered in true_divide\n",
      "  if sys.path[0] == '':\n"
     ]
    },
    {
     "data": {
      "text/plain": [
       "<matplotlib.legend.Legend at 0x7fa912265c90>"
      ]
     },
     "execution_count": 92,
     "metadata": {},
     "output_type": "execute_result"
    },
    {
     "data": {
      "image/png": "[encoded data removed]",
      "text/plain": [
       "<Figure size 432x288 with 1 Axes>"
      ]
     },
     "metadata": {
      "needs_background": "light"
     },
     "output_type": "display_data"
    }
   ],
   "source": [
    "import matplotlib.pyplot as plt\n",
    "S0=S0_sony\n",
    "\n",
    "K=np.array([6000])\n",
    "\n",
    "T=92/365\n",
    "r=0\n",
    "\n",
    "siguma=np.arange(0,20,0.0001)\n",
    "\n",
    "import numpy as np\n",
    "d1=(np.log(S0/K)+(r+(siguma**2)/2)*T)/(siguma*np.sqrt(T))\n",
    "d2=d1-siguma*np.sqrt(T)\n",
    "\n",
    "call_sony=S0*si.norm.cdf(d1)-K*np.exp(-r*T)*si.norm.cdf(d2)\n",
    "put_sony=K*np.exp(-r*T)*si.norm.cdf(-d2)-S0*si.norm.cdf(-d1)\n",
    "plt.plot(siguma,call_sony,label=\"call_option\")\n",
    "\n",
    "plt.plot(siguma,put_sony,label=\"put_option\")\n",
    "plt.legend()"
   ]
  },
  {
   "cell_type": "code",
   "execution_count": 93,
   "metadata": {},
   "outputs": [
    {
     "data": {
      "text/plain": [
       "array([865., 865., 865., ..., 865., 865., 865.])"
      ]
     },
     "execution_count": 93,
     "metadata": {},
     "output_type": "execute_result"
    }
   ],
   "source": [
    "call_sony-put_sony"
   ]
  },
  {
   "cell_type": "markdown",
   "metadata": {},
   "source": [
    "### また、行使価格を6865から、6000にシフトすると、プットオプションの収束全体がコールオプションより、865円下落することがわかった"
   ]
  },
  {
   "cell_type": "markdown",
   "metadata": {},
   "source": [
    "## 課題 3-2:横軸に原資産 Z の 5 月 15 日当日の価格，縦軸に BS の公式を用いて計算されるヨ ーロピアン・コールオプションの価格とヨーロピアン・プットオプションの価格を取ったそ れぞれのグラフ(図 3-2)を描いてください.さらに，グラフを見てそれぞれの価格がどのよ うな理由で図のような形状になるのか，考察して書いてください."
   ]
  },
  {
   "cell_type": "code",
   "execution_count": 110,
   "metadata": {},
   "outputs": [
    {
     "data": {
      "text/plain": [
       "<matplotlib.legend.Legend at 0x7fa8feef5c10>"
      ]
     },
     "execution_count": 110,
     "metadata": {},
     "output_type": "execute_result"
    },
    {
     "data": {
      "image/png": "[encoded data removed]",
      "text/plain": [
       "<Figure size 432x288 with 1 Axes>"
      ]
     },
     "metadata": {
      "needs_background": "light"
     },
     "output_type": "display_data"
    }
   ],
   "source": [
    "import matplotlib.pyplot as plt\n",
    "S0=np.arange(2000,12000,1)\n",
    "\n",
    "K=np.array([6000])\n",
    "\n",
    "T=92/365\n",
    "r=0\n",
    "\n",
    "siguma=np.array([sigmaA])\n",
    "\n",
    "import numpy as np\n",
    "d1=(np.log(S0/K)+(r+(siguma**2)/2)*T)/(siguma*np.sqrt(T))\n",
    "d2=d1-siguma*np.sqrt(T)\n",
    "\n",
    "call_sony=S0*si.norm.cdf(d1)-K*np.exp(-r*T)*si.norm.cdf(d2)\n",
    "\n",
    "plt.plot(S0,call_sony,label=\"call_option\")\n",
    "\n",
    "\n",
    "\n",
    "import numpy as np\n",
    "d1=(np.log(S0/K)+(r+(siguma**2)/2)*T)/(siguma*np.sqrt(T))\n",
    "d2=d1-siguma*np.sqrt(T)\n",
    "\n",
    "put_sony=K*np.exp(-r*T)*si.norm.cdf(-d2)-S0*si.norm.cdf(-d1)\n",
    "\n",
    "plt.plot(S0,put_sony,label=\"put__option\")\n",
    "plt.legend()"
   ]
  },
  {
   "cell_type": "markdown",
   "metadata": {},
   "source": [
    "### 行使価格6000円にすると、原資産 Z の 5 月 15 日当日の価格が6000円に変化する時に、プットオプションとコールオプションの価格が同じになる。原資産 Z の 5 月 15 日当日の価格が6000円より、高い場合、コールオプションの価格がプットオプションより高くなり、低い場合は、プットオプションがコールオプションの価格より高くなることがわかった。また、行使価格が6865円の場合は、グラフの分岐点が、6865円になることが容易に推測できる。"
   ]
  },
  {
   "cell_type": "markdown",
   "metadata": {},
   "source": [
    "## 課題 3-3:横軸にオプションの行使価格，縦軸に BS の公式を用いて計算されるヨーロピア ン・コールオプションの価格とヨーロピアン・プットオプションの価格を取ったそれぞれの グラフ(図 3-3)を描いてください.さらに，グラフを見てそれぞれの価格がどのような理由で図のような形状になるのか，考察して書いてください.グラフの横軸になる行使価格は at the money を中心に適切な範囲を動かしてください.\n"
   ]
  },
  {
   "cell_type": "code",
   "execution_count": 157,
   "metadata": {},
   "outputs": [
    {
     "data": {
      "text/plain": [
       "[<matplotlib.lines.Line2D at 0x7fa895508e90>]"
      ]
     },
     "execution_count": 157,
     "metadata": {},
     "output_type": "execute_result"
    },
    {
     "data": {
      "image/png": "[encoded data removed]",
      "text/plain": [
       "<Figure size 432x288 with 1 Axes>"
      ]
     },
     "metadata": {
      "needs_background": "light"
     },
     "output_type": "display_data"
    }
   ],
   "source": [
    "import matplotlib.pyplot as plt\n",
    "S0=S0_sony\n",
    "\n",
    "T=92/365\n",
    "\n",
    "r=0\n",
    "\n",
    "siguma=sigmaA\n",
    "\n",
    "import numpy as np\n",
    "\n",
    "K=np.arange(6865,0,-1)\n",
    "\n",
    "d1=(np.log(S0/K)+(r+(siguma**2)/2)*T)/(siguma*np.sqrt(T))\n",
    "d2=d1-siguma*np.sqrt(T)\n",
    "call_sony=S0*si.norm.cdf(d1)-K*np.exp(-r*T)*si.norm.cdf(d2)\n",
    "\n",
    "plt.plot(K,call_sony)"
   ]
  },
  {
   "cell_type": "code",
   "execution_count": 158,
   "metadata": {},
   "outputs": [
    {
     "data": {
      "text/plain": [
       "[<matplotlib.lines.Line2D at 0x7fa8725ce590>]"
      ]
     },
     "execution_count": 158,
     "metadata": {},
     "output_type": "execute_result"
    },
    {
     "data": {
      "image/png": "[encoded data removed]",
      "text/plain": [
       "<Figure size 432x288 with 1 Axes>"
      ]
     },
     "metadata": {
      "needs_background": "light"
     },
     "output_type": "display_data"
    }
   ],
   "source": [
    "import matplotlib.pyplot as plt\n",
    "S0=S0_sony\n",
    "\n",
    "T=92/365\n",
    "\n",
    "r=0\n",
    "\n",
    "siguma=sigmaA\n",
    "\n",
    "import numpy as np\n",
    "\n",
    "K=np.arange(6865,10000,1)\n",
    "\n",
    "d1=(np.log(S0/K)+(r+(siguma**2)/2)*T)/(siguma*np.sqrt(T))\n",
    "d2=d1-siguma*np.sqrt(T)\n",
    "put_sony=K*np.exp(-r*T)*si.norm.cdf(-d2)-S0*si.norm.cdf(-d1)\n",
    "\n",
    "plt.plot(K,put_sony)"
   ]
  },
  {
   "cell_type": "markdown",
   "metadata": {},
   "source": [
    "### ヨーロピアン・コールオプションの場合は、行使価格が、原資産の価格より低くなればなるほど、コールオプション価格が増加することがわかった。これ以上減少すると最終的には、6865になると予想される。\n",
    "### また、ヨーロピアン・プットオプションの場合は、行使価格が、原資産の価格より高くなればなるほど、プットオプション価格が増加することがわかった。これ以上増えるとその増加は無限大であることがわかった。つまり、空売りのプットオプションのリスクは理論的無限大である。"
   ]
  },
  {
   "cell_type": "markdown",
   "metadata": {},
   "source": [
    "## 課題 3-4:横軸にオプション満期までの残り時間，縦軸に BS の公式を用いて計算されるヨ ーロピアン・コールオプションの価格とヨーロピアン・プットオプションの価格を取ったそ れぞれのグラフ(図 3-4)を描いてください.さらに，グラフを見てそれぞれの価格がどのよ うな理由で図のような形状になるのか，考察して書いてください."
   ]
  },
  {
   "cell_type": "code",
   "execution_count": 123,
   "metadata": {},
   "outputs": [
    {
     "name": "stderr",
     "output_type": "stream",
     "text": [
      "/usr/local/anaconda3/lib/python3.7/site-packages/ipykernel_launcher.py:15: RuntimeWarning: invalid value encountered in true_divide\n",
      "  from ipykernel import kernelapp as app\n",
      "/usr/local/anaconda3/lib/python3.7/site-packages/ipykernel_launcher.py:15: RuntimeWarning: divide by zero encountered in true_divide\n",
      "  from ipykernel import kernelapp as app\n"
     ]
    },
    {
     "data": {
      "image/png": "[encoded data removed]",
      "text/plain": [
       "<Figure size 432x288 with 1 Axes>"
      ]
     },
     "metadata": {
      "needs_background": "light"
     },
     "output_type": "display_data"
    }
   ],
   "source": [
    "import matplotlib.pyplot as plt\n",
    "S0=S0_sony\n",
    "\n",
    "K=6865\n",
    "\n",
    "T=np.arange(93,-1,-1)/365\n",
    "r=0\n",
    "\n",
    "siguma=np.array([sigmaA])\n",
    "\n",
    "import numpy as np\n",
    "\n",
    "for i in np.arange(6865,6000,-50):\n",
    "    K=i\n",
    "    d1=(np.log(S0/K)+(r+(siguma**2)/2)*T)/(siguma*np.sqrt(T))\n",
    "    d2=d1-siguma*np.sqrt(T)\n",
    "    call_sony=S0*si.norm.cdf(d1)-K*np.exp(-r*T)*si.norm.cdf(d2)\n",
    "    plt.plot(T,call_sony)\n",
    "    \n",
    "\n"
   ]
  },
  {
   "cell_type": "code",
   "execution_count": 125,
   "metadata": {},
   "outputs": [
    {
     "name": "stderr",
     "output_type": "stream",
     "text": [
      "/usr/local/anaconda3/lib/python3.7/site-packages/ipykernel_launcher.py:17: RuntimeWarning: invalid value encountered in true_divide\n",
      "/usr/local/anaconda3/lib/python3.7/site-packages/ipykernel_launcher.py:17: RuntimeWarning: divide by zero encountered in true_divide\n"
     ]
    },
    {
     "data": {
      "image/png": "[encoded data removed]",
      "text/plain": [
       "<Figure size 432x288 with 1 Axes>"
      ]
     },
     "metadata": {
      "needs_background": "light"
     },
     "output_type": "display_data"
    }
   ],
   "source": [
    "import matplotlib.pyplot as plt\n",
    "import numpy as np\n",
    "\n",
    "S0=S0_sony\n",
    "\n",
    "K=6865\n",
    "\n",
    "T=np.arange(93,-1,-1)/365\n",
    "r=0\n",
    "\n",
    "siguma=np.array([sigmaA])\n",
    "\n",
    "\n",
    "\n",
    "for i in np.arange(6865,8000,50):\n",
    "    K=i\n",
    "    d1=(np.log(S0/K)+(r+(siguma**2)/2)*T)/(siguma*np.sqrt(T))\n",
    "    d2=d1-siguma*np.sqrt(T)\n",
    "    put_sony=K*np.exp(-r*T)*si.norm.cdf(-d2)-S0*si.norm.cdf(-d1)\n",
    "    plt.plot(T,put_sony)\n"
   ]
  },
  {
   "cell_type": "markdown",
   "metadata": {},
   "source": [
    "### ヨーロピアン・コールオプションの場合は、満期になるにつれて、・コールオプション価格が減少することがわかった。また、行使価格が、原資産の価格より低くなればなるほど、ヨーロピアン・コールオプションの価格グラフが上にシフトし、これ以上低くなると最終的には、6865円になる水平直線になることが予想される。\n",
    "### また、ヨーロピアン・プットオプションの場合は、満期になるにつれて、プットプション価格も同様に減少することがわかった。また、行使価格が、原資産の価格より高くなればなるほど、プットオプションの価格グラフも上にシフトし、これ以上増えると最終的には、無限大になることが予想される。"
   ]
  },
  {
   "cell_type": "markdown",
   "metadata": {},
   "source": [
    "## テーマ X:感想，コメント"
   ]
  },
  {
   "cell_type": "markdown",
   "metadata": {},
   "source": [
    "### このレポート作成に費やした総時間(概算)は、20時間である。中間レポートと、期末レポートをやり抜くことで、オプションの理解が深くなったし、プログラミングの能力も大きく向上した。また、資産運用や、ポートフォリオ オプティマイザーの知識もとても深くなり、資産運用や、ポートフォリオ オプティマイザーの卒業論文を書くために、この授業を取る意味を感じた。"
   ]
  },
  {
   "cell_type": "code",
   "execution_count": null,
   "metadata": {},
   "outputs": [],
   "source": []
  }
 ],
 "metadata": {
  "kernelspec": {
   "display_name": "Python 3",
   "language": "python",
   "name": "python3"
  },
  "language_info": {
   "codemirror_mode": {
    "name": "ipython",
    "version": 3
   },
   "file_extension": ".py",
   "mimetype": "text/x-python",
   "name": "python",
   "nbconvert_exporter": "python",
   "pygments_lexer": "ipython3",
   "version": "3.7.4"
  }
 },
 "nbformat": 4,
 "nbformat_minor": 2
}
