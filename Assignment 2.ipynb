{
 "cells": [
  {
   "cell_type": "markdown",
   "metadata": {},
   "source": [
    "## Problem7"
   ]
  },
  {
   "cell_type": "markdown",
   "metadata": {},
   "source": [
    "## Monte Carlo simulation is among the most important numerical algorithms from 20th century. Its importance for financial applications stems from the fact that it is most flexible in terms of financial products that can be valued. First applied to European option pricing in 1977 by Phelim Boyle (cf. Boyle (1977)), it took until the 21st century for the problem of valuing American options by Monte Carlo simulation to be satisfactorily solved by Francis Longstaff and Eduardo Schwartz (cf. Longstaff and Schwartz (2001)) and others (cf. Chapter 7). Glasserman (2004) provides a comprehensive introduction to Monte Carlo methods for financial engineering and is a standard reference. Kohler (2009) is a survey article of regression-based valuation approaches for American options.by YVES HILPISCH(2015)"
   ]
  },
  {
   "cell_type": "markdown",
   "metadata": {},
   "source": [
    "## Pricing a European Call Option Using Monte Carlo Simulation starting by looking at the famous Black-Scholes-Merton formula dSt=rSt dt +σSt d Zt\n",
    "## S(t) = Stock price at time t\n",
    "## r = Risk free rate\n",
    "## σ = Volatility\n",
    "## Z(t) = Brownian motion"
   ]
  },
  {
   "cell_type": "markdown",
   "metadata": {},
   "source": [
    "## The solution is given by the expression St = S(t-Δt) exp((r-(1/2σ^2)+σ√(Δt) Zt)\n",
    "## we consider it in python as log(St) = logS(t-Δt) + (r-1/2σ^2)Δt+σ√(Δt) Zt"
   ]
  },
  {
   "cell_type": "markdown",
   "metadata": {},
   "source": [
    "## we calculate this formula where S0 = 100; K = 110.; T = 3/12; r = 0.1; sigma = 0.3"
   ]
  },
  {
   "cell_type": "code",
   "execution_count": 28,
   "metadata": {},
   "outputs": [],
   "source": [
    "import datetime\n",
    "from random import gauss\n",
    "from math import exp, sqrt\n",
    "\n",
    "def generate_asset_price(S,v,r,T):\n",
    "    return S * exp((r - 0.5 * v**2) * T + v * sqrt(T) * gauss(0,1.0))\n",
    "\n",
    "def call_payoff(S_T,K):\n",
    "    return max(0.0,S_T-K)\n",
    "\n",
    "S = 100\n",
    "v = 0.3\n",
    "r = 0.1\n",
    "T = 3/12\n",
    "K = 110\n",
    "simulations = 250000\n",
    "payoffs = []\n",
    "discount_factor = math.exp(-r * T)\n",
    "\n",
    "for i in range(simulations):\n",
    "    S_T = generate_asset_price(S,v,r,T)\n",
    "    payoffs.append(\n",
    "        call_payoff(S_T, K)\n",
    "    )\n",
    "\n",
    "price = discount_factor * (sum(payoffs) / float(simulations))"
   ]
  },
  {
   "cell_type": "code",
   "execution_count": 29,
   "metadata": {},
   "outputs": [
    {
     "data": {
      "text/plain": [
       "3.221733189574394"
      ]
     },
     "execution_count": 29,
     "metadata": {},
     "output_type": "execute_result"
    }
   ],
   "source": [
    "price"
   ]
  },
  {
   "cell_type": "markdown",
   "metadata": {},
   "source": [
    "## Almost same as the result of first call option at Problem6"
   ]
  },
  {
   "cell_type": "markdown",
   "metadata": {},
   "source": [
    "## Problem8"
   ]
  },
  {
   "cell_type": "markdown",
   "metadata": {},
   "source": [
    "## Portfolio insurance is a hedging technique which attempts to manage risk and limit losses by buying and selling financial instruments (for example, stocks or futures) in reaction to changes in market price rather than changes in market fundamentals. Specifically, they buy when the market is rising, and sell when the market is falling, without regard for any fundamental information about why the market is rising or falling. Thus it is an example of an \"informationless trade\" that has the potential to create a market-destabilizing feedback loop.\n",
    "## This strategy became a source of downward pressure when portfolio insurers whose computer models noted that stocks opened lower and continued their steep price. The models recommended even further sales.The potential for computer-generated feedback loops that these hedges created has been discussed as a factor compounding the severity of the crash.(Black Monday (1987))"
   ]
  },
  {
   "cell_type": "code",
   "execution_count": null,
   "metadata": {},
   "outputs": [],
   "source": []
  }
 ],
 "metadata": {
  "kernelspec": {
   "display_name": "Python 3",
   "language": "python",
   "name": "python3"
  },
  "language_info": {
   "codemirror_mode": {
    "name": "ipython",
    "version": 3
   },
   "file_extension": ".py",
   "mimetype": "text/x-python",
   "name": "python",
   "nbconvert_exporter": "python",
   "pygments_lexer": "ipython3",
   "version": "3.7.4"
  }
 },
 "nbformat": 4,
 "nbformat_minor": 2
}
